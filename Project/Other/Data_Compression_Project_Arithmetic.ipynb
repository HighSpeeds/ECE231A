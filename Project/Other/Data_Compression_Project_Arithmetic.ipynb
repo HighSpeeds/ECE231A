{
  "metadata": {
    "kernelspec": {
      "name": "python",
      "display_name": "Python (Pyodide)",
      "language": "python"
    },
    "language_info": {
      "codemirror_mode": {
        "name": "python",
        "version": 3
      },
      "file_extension": ".py",
      "mimetype": "text/x-python",
      "name": "python",
      "nbconvert_exporter": "python",
      "pygments_lexer": "ipython3",
      "version": "3.8"
    }
  },
  "nbformat_minor": 4,
  "nbformat": 4,
  "cells": [
    {
      "cell_type": "code",
      "source": "import numpy as np\nimport matplotlib.pyplot as plt\nimport csv\nfrom collections import Counter",
      "metadata": {},
      "execution_count": null,
      "outputs": []
    },
    {
      "cell_type": "code",
      "source": "##########################################################################################\n# Read Text file\n##########################################################################################\nf = open(\"toy_example.txt\", \"r\")\ntext = f.read()",
      "metadata": {},
      "execution_count": null,
      "outputs": []
    },
    {
      "cell_type": "code",
      "source": "##########################################################################################\n# Compute the empirical distribution\n##########################################################################################\ndef compute_distribution(text):\n    \"\"\"\n    Inputs:\n    - text: A string containing the text to be encoded.\n    \n    Returns:\n    - symbols: a list of tuples of the form (char,prob), where char is a character appears in the text \n               and prob is the number of times this character appeared in text divided by the length of text.\n    \"\"\"\n    # ================================================================ #\n    # YOUR CODE HERE:\n    # ================================================================ #\n    symbols = []\n    # ================================================================ #\n    # END YOUR CODE HERE\n    # ================================================================ #  \n    return symbols\n\nsymbols = compute_distribution(text)\nsize_symbols = len(symbols)\nprint(symbols)\n",
      "metadata": {},
      "execution_count": null,
      "outputs": []
    },
    {
      "cell_type": "markdown",
      "source": "## Part 2: Arithmetic Codes",
      "metadata": {}
    },
    {
      "cell_type": "code",
      "source": "#######################################################################################\n# Compute the expected length of the Huffman code\n#######################################################################################\ndef compute_CDF(symbols):\n    \"\"\"\n    Inputs:\n    - symbols: A list of tuples of the form (char,prob).\n    Returns:\n    - CDF_symbols: A list of tuples of the form (char,CDF)\n    \"\"\"\n    CDF_symbols = []\n    # ================================================================ #\n    # YOUR CODE HERE:\n    # ================================================================ #\n\n    # ================================================================ #\n    # END YOUR CODE HERE\n    # ================================================================ #\n    return CDF_symbols\n\nCDF_symbols = compute_CDF(symbols)\nprint(CDF_symbols)",
      "metadata": {},
      "execution_count": null,
      "outputs": []
    },
    {
      "cell_type": "code",
      "source": "###########################################################################\n# Decimal encoding\n###########################################################################\ndef decimal_encoding(text,CDF_symbols) :\n    \"\"\"\n    Inputs:\n    - text: A string containing the text to be encoded.\n    Returns:\n    - lower: the lower value of the interval of the encoded text.\n    - upper: the upper value of the interval of the encoded text.\n    \"\"\"\n    lower = 0 \n    upper = 1\n    # ================================================================ #\n    # YOUR CODE HERE:\n    # ================================================================ #\n    for c in text:\n    # ================================================================ #\n    # END YOUR CODE HERE\n    # ================================================================ #\n    return lower, upper\n\nlower,upper = decimal_encoding(text,CDF_symbols)\nprint(\"Interval representing the text is:  \", lower, upper)",
      "metadata": {},
      "execution_count": null,
      "outputs": []
    },
    {
      "cell_type": "code",
      "source": "###########################################################################\n# Binary encoding\n###########################################################################\ndef Arithmetic_encoding(lower,upper):\n    \"\"\"\n    Inputs:\n    - lower: the lower value of the interval of the encoded text.\n    - upper: the upper value of the interval of the encoded text.\n    Returns:\n    - txt_code: a string represents the code of the input text.\n    \"\"\"\n    txt_code = ''\n    # ================================================================ #\n    # YOUR CODE HERE:\n    # ================================================================ #\n\n    # ================================================================ #\n    # END YOUR CODE HERE\n    # ================================================================ #\n    return txt_code\n\ntxt_code = Arithmetic_encoding(lower,upper)\nprint(\"Encoded Text:  \", txt_code)\nExpected_length_Arithematic = len(txt_code)/len(text)\nprint(\"Expected length of Arithematic code:   \", Expected_length_Arithematic)",
      "metadata": {},
      "execution_count": null,
      "outputs": []
    },
    {
      "cell_type": "code",
      "source": "###########################################################################\n# Binary Decoding\n###########################################################################\ndef decimal_decoding(txt_code):\n    \"\"\"\n    Inputs:\n    - txt_code: a string of zeros and ones represents the code of the input text.\n    Returns:\n    - decoded_val: a real number between 0 and 1.\n    \"\"\"\n    decoded_val = 0\n    # ================================================================ #\n    # YOUR CODE HERE:\n    # ================================================================ #\n\n    # ================================================================ #\n    # END YOUR CODE HERE\n    # ================================================================ #\n    return decoded_val\n\ndecoded_val = decimal_decoding(txt_code)\nprint(\"The decoded Value:  \", decoded_val)",
      "metadata": {},
      "execution_count": null,
      "outputs": []
    },
    {
      "cell_type": "code",
      "source": "###########################################################################\n# Arithmetic Decoding\n###########################################################################\ndef Arithmetic_decode(decoded_val,CDF_symbols, n):\n    \"\"\"\n    Inputs:\n    - decoded_val: A real number between 0 and 1 represents the mid-point of the interval of the encoded text.\n    - CDF_symbols: A list containing the symbols and their corresponding CDF\n    - n: number of symbols to be decoded\n    Returns:\n    - decoded_text: a string containing the decoded text.\n    \"\"\"\n    decoded_text = ''\n    # ================================================================ #\n    # YOUR CODE HERE:\n    # ================================================================ #\n\n    # ================================================================ #\n    # END YOUR CODE HERE\n    # ================================================================ #\n    return decoded_text\n\ndecoded_text = Arithmetic_decode(decoded_val,CDF_symbols, len(text))\nprint(\"Orginal text:   \", text)      \nprint(\"Decoded Text:   \", decoded_text)",
      "metadata": {},
      "execution_count": null,
      "outputs": []
    }
  ]
}