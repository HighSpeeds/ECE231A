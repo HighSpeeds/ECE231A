{
 "cells": [
  {
   "cell_type": "markdown",
   "metadata": {},
   "source": [
    "## ECE 231A : Data Compression Project Module 2\n",
    "\n",
    "Please follow our instructions in the same order and print out the entire results and codes when completed."
   ]
  },
  {
   "cell_type": "code",
   "execution_count": null,
   "metadata": {},
   "outputs": [],
   "source": [
    "import numpy as np\n",
    "import matplotlib.pyplot as plt\n",
    "import csv\n",
    "from collections import Counter"
   ]
  },
  {
   "cell_type": "code",
   "execution_count": null,
   "metadata": {},
   "outputs": [],
   "source": [
    "##########################################################################################\n",
    "# Read Text file\n",
    "##########################################################################################\n",
    "f = open(\"Toy_Example_LZ.txt\", \"r\")\n",
    "text = f.read()\n",
    "print(text)"
   ]
  },
  {
   "cell_type": "code",
   "execution_count": null,
   "metadata": {},
   "outputs": [],
   "source": [
    "##########################################################################################\n",
    "# Compute the distribution\n",
    "##########################################################################################\n",
    "def compute_distribution(text):\n",
    "    \"\"\"\n",
    "    Inputs:\n",
    "    - text: A string containing the text to be encoded.\n",
    "    \n",
    "    Returns:\n",
    "    - symbols: a list of tuples of the form (char,prob), where char is a character appears in the text \n",
    "               and prob is the number of times this character appeared in text divided by the length of text.\n",
    "    - entropy: a number represnting the entropy of the source symbols\n",
    "    \"\"\"\n",
    "    # ================================================================ #\n",
    "    # YOUR CODE HERE:\n",
    "    # ================================================================ #\n",
    "    probs = {}\n",
    "    entropy = 0\n",
    "    # ================================================================ #\n",
    "    # END YOUR CODE HERE\n",
    "    # ================================================================ #\n",
    "    return symbols, entropy\n",
    "\n",
    "symbols, entropy = compute_distribution(text)\n",
    "print(symbols)\n",
    "print(entropy)"
   ]
  },
  {
   "cell_type": "markdown",
   "metadata": {},
   "source": [
    "## Binary LEMPEL-ZIV Coding"
   ]
  },
  {
   "cell_type": "code",
   "execution_count": null,
   "metadata": {},
   "outputs": [],
   "source": [
    "##########################################################################################\n",
    "# Initialize the dictionary of both the sender and the receiver\n",
    "##########################################################################################\n",
    "def intialize_dict(symbols):\n",
    "    \"\"\"\n",
    "    Inputs:\n",
    "    - symbols: a list of tuples of the form (char,prob), where char is a character appears in the text \n",
    "               and prob is the number of times this character appeared in text divided by the length of text.\n",
    "    Returns:\n",
    "    - TX_dictionary: dictionary containing the symbols in symbols and its corresponding binary code\n",
    "    - RX_dictionary: dictionary containing the symbols in symbols and its corresponding binary code\n",
    "    \"\"\"\n",
    "    TX_dictionary = dict() \n",
    "    RX_dictionary = dict()\n",
    "    # ================================================================ #\n",
    "    # YOUR CODE HERE:\n",
    "    # ================================================================ #\n",
    "    \n",
    "    # ================================================================ #\n",
    "    # END YOUR CODE HERE\n",
    "    # ================================================================ #  \n",
    "    return TX_dictionary,RX_dictionary\n",
    "\n",
    "TX_dictionary, RX_dictionary = intialize_dict(symbols)\n",
    "print(TX_dictionary, RX_dictionary)"
   ]
  },
  {
   "cell_type": "code",
   "execution_count": null,
   "metadata": {},
   "outputs": [],
   "source": [
    "#######################################################################################\n",
    "#Encode the text \n",
    "#######################################################################################\n",
    "def Lempel_ziv_coding(text, TX_dictionary):\n",
    "    \"\"\"\n",
    "    Inputs:\n",
    "    - text: A string containing the text to be encoded.\n",
    "    - TX_dictionary: Initialized decitionary of the sender\n",
    "    Returns:\n",
    "    - TX_dictionary: the updated dictionary of the sender.\n",
    "    - Code: the code of the input text\n",
    "    \"\"\"\n",
    "    code =  ''\n",
    "    # ================================================================ #\n",
    "    # YOUR CODE HERE:\n",
    "    # ================================================================ #\n",
    "    \n",
    "    # ================================================================ #\n",
    "    # END YOUR CODE HERE\n",
    "    # ================================================================ #\n",
    "    return TX_dictionary, code\n",
    "TX_dictionary, code = Lempel_ziv_coding(text, TX_dictionary)\n",
    "print(TX_dictionary)\n",
    "print(\"The code of the text is\",code)"
   ]
  },
  {
   "cell_type": "code",
   "execution_count": null,
   "metadata": {},
   "outputs": [],
   "source": [
    "#######################################################################################\n",
    "# Compute the expected length of the Lempel-Ziv code\n",
    "#######################################################################################\n",
    "def compute_expected_length(text, code):\n",
    "    \"\"\"\n",
    "    Inputs:\n",
    "    - text: input text.\n",
    "    - code: the code of the input text\n",
    "    Returns:\n",
    "    - Expected_length: a number represents the expected length of Lempel-Ziv code per sample\n",
    "    \"\"\"\n",
    "    Expected_length = 0\n",
    "    # ================================================================ #\n",
    "    # YOUR CODE HERE:\n",
    "    # ================================================================ #\n",
    "    \n",
    "    # ================================================================ #\n",
    "    # END YOUR CODE HERE\n",
    "    # ================================================================ #\n",
    "    return Expected_length\n",
    "\n",
    "Expected_length = compute_expected_length(text, code)\n",
    "print(\"Expected length of the Lempel-Ziv code:   \", Expected_length)"
   ]
  },
  {
   "cell_type": "code",
   "execution_count": null,
   "metadata": {},
   "outputs": [],
   "source": [
    "#######################################################################################\n",
    "# Decode a text\n",
    "#######################################################################################\n",
    "def decode_text(code, RX_dictionary):\n",
    "    \"\"\"\n",
    "    Inputs:\n",
    "    - code: A code of a text encoded by Huffman code as a string.\n",
    "    - RX_dictionary: Initialized decitionary of the receiver\n",
    "    Returns:\n",
    "    - decoded_text: a string represents the decoded text.\n",
    "    - RX_dictionary: the updated dictionary of the receiver.\n",
    "    \"\"\"\n",
    "    decoded_text = ''\n",
    "    # ================================================================ #\n",
    "    # YOUR CODE HERE:\n",
    "    # ================================================================ #\n",
    "    \n",
    "    # ================================================================ #\n",
    "    # END YOUR CODE HERE\n",
    "    # ================================================================ #\n",
    "    return decoded_text, RX_dictionary\n",
    "\n",
    "decoded_text,RX_dictionary = decode_text(code, RX_dictionary)\n",
    "print(\"Orginal text:   \", text)      \n",
    "print(\"Decoded Text:   \", decoded_text)\n",
    "print(\"The receiver Dictionary:   \", RX_dictionary)"
   ]
  }
 ],
 "metadata": {
  "kernelspec": {
   "display_name": "Python 3",
   "language": "python",
   "name": "python3"
  },
  "language_info": {
   "codemirror_mode": {
    "name": "ipython",
    "version": 3
   },
   "file_extension": ".py",
   "mimetype": "text/x-python",
   "name": "python",
   "nbconvert_exporter": "python",
   "pygments_lexer": "ipython3",
   "version": "3.8.5"
  }
 },
 "nbformat": 4,
 "nbformat_minor": 2
}
