{
 "cells": [
  {
   "cell_type": "markdown",
   "metadata": {},
   "source": [
    "## ECE 231A : Data Compression Project Module 1\n",
    "\n",
    "Please follow our instructions in the same order and print out the entire results and codes when completed."
   ]
  },
  {
   "cell_type": "code",
   "execution_count": 2,
   "metadata": {},
   "outputs": [],
   "source": [
    "import numpy as np\n",
    "import matplotlib.pyplot as plt\n",
    "import csv\n",
    "from collections import Counter"
   ]
  },
  {
   "cell_type": "code",
   "execution_count": 3,
   "metadata": {},
   "outputs": [],
   "source": [
    "##########################################################################################\n",
    "# Read Text file\n",
    "##########################################################################################\n",
    "f = open(\"Toy_Example_Huffman.txt\", \"r\")\n",
    "text = f.read()"
   ]
  },
  {
   "cell_type": "code",
   "execution_count": 25,
   "metadata": {},
   "outputs": [
    {
     "name": "stdout",
     "output_type": "stream",
     "text": [
      "[('A', 0.125), ('B', 0.125), ('C', 0.25), ('D', 0.5)]\n"
     ]
    }
   ],
   "source": [
    "##########################################################################################\n",
    "# Compute the empirical distribution\n",
    "##########################################################################################\n",
    "def compute_distribution(text):\n",
    "    \"\"\"\n",
    "    Inputs:\n",
    "    - text: A string containing the text to be encoded.\n",
    "    \n",
    "    Returns:\n",
    "    - symbols: a list of tuples of the form (char,prob), where char is a character appears in the text \n",
    "               and prob is the number of times this character appeared in text divided by the length of text.\n",
    "    \"\"\"\n",
    "    # ================================================================ #\n",
    "    # YOUR CODE HERE:\n",
    "    # ================================================================ #\n",
    "    chars, counts = np.unique(list(text), return_counts=True)\n",
    "    symbols = [(str(char), count/len(text)) for char, count in zip(chars, counts)]\n",
    "    # ================================================================ #\n",
    "    # END YOUR CODE HERE\n",
    "    # ================================================================ #  \n",
    "    return symbols\n",
    "\n",
    "symbols = compute_distribution(text)\n",
    "size_symbols = len(symbols)\n",
    "print(symbols)\n"
   ]
  },
  {
   "cell_type": "markdown",
   "metadata": {},
   "source": [
    "## Part 1: D-ary Huffman Codes"
   ]
  },
  {
   "cell_type": "code",
   "execution_count": 26,
   "metadata": {},
   "outputs": [
    {
     "name": "stdout",
     "output_type": "stream",
     "text": [
      "(('dummy0', 'A', 'B'), 'C', 'D')\n"
     ]
    }
   ],
   "source": [
    "########################################################################################\n",
    "# Draw the tree for the Huffman code \n",
    "########################################################################################\n",
    "def Huffman_tree(symbols, D = 3):\n",
    "    \"\"\"\n",
    "    Inputs:\n",
    "    - symbols: a list of tuples of the form (char,prob), where char is a character appears in the text \n",
    "               and prob is the number of times this character appeared in text divided by the length of text.\n",
    "    \n",
    "    Returns:\n",
    "    - tree: a list of a single element that have probability one. at each iteration sort your list according \n",
    "            to their probabilities and combine the first D elements as a single element  \n",
    "    \"\"\"\n",
    "    # ================================================================ #\n",
    "    # YOUR CODE HERE:\n",
    "    # ================================================================ #\n",
    "    #check if we need to add dummy symbols\n",
    "\n",
    "    if len(symbols)==1:\n",
    "        return symbols\n",
    "    if (len(symbols)-1)%(D-1)>0:\n",
    "        for i in range((D-1)-((len(symbols)-1)%(D-1))):\n",
    "            symbols.append(('dummy'+str(i),0))\n",
    "    char,prob=zip(*symbols)\n",
    "    char=list(char)\n",
    "    prob=list(prob)\n",
    "\n",
    "    #sort the chars and probs\n",
    "    sorted_chars=[x for _,x in sorted(zip(prob,char),key=lambda pair: pair[0])]\n",
    "    sorted_probs=sorted(prob)\n",
    "    #combine the first D elements as a single element\n",
    "    tree=[(tuple(sorted_chars[:D]),sum(sorted_probs[:D]))]\n",
    "\n",
    "    #add the rest of the elements\n",
    "    for i in range(D,len(sorted_chars)):\n",
    "        tree.append((sorted_chars[i],sorted_probs[i]))\n",
    "    return Huffman_tree(tree,D)\n",
    "    # ================================================================ #\n",
    "    # END YOUR CODE HERE\n",
    "    # ================================================================ #\n",
    "    return tree\n",
    "\n",
    "tree = Huffman_tree(symbols)   \n",
    "print(tree[0][0])"
   ]
  },
  {
   "cell_type": "code",
   "execution_count": 28,
   "metadata": {},
   "outputs": [
    {
     "name": "stdout",
     "output_type": "stream",
     "text": [
      "Huffman CodeBook:   {'dummy0': '00', 'A': '01', 'B': '02', 'C': '1', 'D': '2'}\n"
     ]
    }
   ],
   "source": [
    "#######################################################################################\n",
    "#Encode the Huffman Tree\n",
    "#######################################################################################\n",
    "def Huffman_coding(seq, code='', D =3):\n",
    "    \"\"\"\n",
    "    Inputs:\n",
    "    - seq: a tuple of characters.\n",
    "    - code: the code of this tuple\n",
    "    Returns:\n",
    "    - Dictionary: a dictionary containing the Huffman codes.  \n",
    "    \"\"\"\n",
    "    if type(seq) is str:\n",
    "        return {seq : code}\n",
    "    Dictionary = dict()\n",
    "    # ================================================================ #\n",
    "    # YOUR CODE HERE:\n",
    "    # ================================================================ #\n",
    "    dicts=[{}]*D\n",
    "    for i in range(D):\n",
    "        dicts[i]=Huffman_coding(seq[i],code+str(i),D)\n",
    "    for d in dicts:\n",
    "        Dictionary.update(d)\n",
    "    # ================================================================ #\n",
    "    # END YOUR CODE HERE\n",
    "    # ================================================================ #\n",
    "    return Dictionary\n",
    "\n",
    "Huffman_code = Huffman_coding(tree[0][0])\n",
    "print(\"Huffman CodeBook:  \", Huffman_code)"
   ]
  },
  {
   "cell_type": "code",
   "execution_count": 29,
   "metadata": {},
   "outputs": [
    {
     "name": "stdout",
     "output_type": "stream",
     "text": [
      "Expected length of Huffman code:    1.25\n"
     ]
    }
   ],
   "source": [
    "#######################################################################################\n",
    "# Compute the expected length of the Huffman code\n",
    "#######################################################################################\n",
    "def compute_expected_length(symbols, Huffman_code, D =3):\n",
    "    \"\"\"\n",
    "    Inputs:\n",
    "    - symbols: A list of tuples of the form (char,prob).\n",
    "    - Huffman_code: a dictionary containing the Huffman codes.Each code is a string\n",
    "    Returns:\n",
    "    - Expected_length: a number represents the expected length of Huffman code\n",
    "    \"\"\"\n",
    "    \n",
    "    # ================================================================ #\n",
    "    # YOUR CODE HERE:\n",
    "    # ================================================================ #\n",
    "    Expected_length=0\n",
    "    for symbol in symbols:\n",
    "        char=symbol[0]\n",
    "        Expected_length+=symbol[1]*len(Huffman_code[char])\n",
    "    \n",
    "    # ================================================================ #\n",
    "    # END YOUR CODE HERE\n",
    "    # ================================================================ #\n",
    "    return Expected_length\n",
    "\n",
    "Expected_length = compute_expected_length(symbols, Huffman_code)\n",
    "print(\"Expected length of Huffman code:   \", Expected_length)"
   ]
  },
  {
   "cell_type": "code",
   "execution_count": 30,
   "metadata": {},
   "outputs": [
    {
     "name": "stdout",
     "output_type": "stream",
     "text": [
      "Encoded Text:   2011220212\n"
     ]
    }
   ],
   "source": [
    "#######################################################################################\n",
    "# Encode a text\n",
    "#######################################################################################\n",
    "def encode_text(text, Huffman_code, D =3):\n",
    "    \"\"\"\n",
    "    Inputs:\n",
    "    - text: A string containing the text to be encoded.\n",
    "    - Huffman_code: a dictionary containing the Huffman codes.Each code is a string\n",
    "    Returns:\n",
    "    - txt_code: a string represents the code of the input text.\n",
    "    \"\"\"\n",
    "    txt_code = ''\n",
    "    # ================================================================ #\n",
    "    # YOUR CODE HERE:\n",
    "    # ================================================================ #\n",
    "    for char in text:\n",
    "        txt_code+=Huffman_code[char]\n",
    "    # ================================================================ #\n",
    "    # END YOUR CODE HERE\n",
    "    # ================================================================ #\n",
    "    return txt_code\n",
    "txt_code = encode_text(text, Huffman_code)\n",
    "print(\"Encoded Text:  \", txt_code) "
   ]
  },
  {
   "cell_type": "code",
   "execution_count": 31,
   "metadata": {},
   "outputs": [
    {
     "name": "stdout",
     "output_type": "stream",
     "text": [
      "Orginal text:    DACDDBCD\n",
      "Decoded Text:    DACDDBCD\n"
     ]
    }
   ],
   "source": [
    "#######################################################################################\n",
    "# Decode a text\n",
    "#######################################################################################\n",
    "def decode_text(txt_code, Huffman_code, symbols, D =3):\n",
    "    \"\"\"\n",
    "    Inputs:\n",
    "    -symbols: a list of symbols.\n",
    "    - txt_code: A code of a text encoded by Huffman code as a string.\n",
    "    - Huffman_code: a dictionary containing the Huffman codes. Each code is a string\n",
    "    Returns:\n",
    "    - decoded_text: a string represents the decoded text.\n",
    "    \"\"\"\n",
    "    decoded_text = ''\n",
    "    # ================================================================ #\n",
    "    # YOUR CODE HERE:\n",
    "    # ================================================================ #\n",
    "    r_Huffman_code={v:k for k,v in Huffman_code.items()}\n",
    "    codeword=''\n",
    "    for char in txt_code:\n",
    "        codeword+=char\n",
    "        if codeword in r_Huffman_code:\n",
    "            decoded_text+=r_Huffman_code[codeword]\n",
    "            codeword=''\n",
    "    \n",
    "    # ================================================================ #\n",
    "    # END YOUR CODE HERE\n",
    "    # ================================================================ #\n",
    "    return decoded_text\n",
    "\n",
    "decoded_text = decode_text(txt_code, Huffman_code, symbols)  \n",
    "print(\"Orginal text:   \", text)      \n",
    "print(\"Decoded Text:   \", decoded_text)"
   ]
  },
  {
   "cell_type": "code",
   "execution_count": null,
   "metadata": {},
   "outputs": [],
   "source": []
  }
 ],
 "metadata": {
  "kernelspec": {
   "display_name": "Python 3.11.0 64-bit",
   "language": "python",
   "name": "python3"
  },
  "language_info": {
   "codemirror_mode": {
    "name": "ipython",
    "version": 3
   },
   "file_extension": ".py",
   "mimetype": "text/x-python",
   "name": "python",
   "nbconvert_exporter": "python",
   "pygments_lexer": "ipython3",
   "version": "3.11.0"
  },
  "vscode": {
   "interpreter": {
    "hash": "bba3ff4997165c1194f13d6ba132959aa03ec11dd350457e9411c0bcaf3d4665"
   }
  }
 },
 "nbformat": 4,
 "nbformat_minor": 4
}
