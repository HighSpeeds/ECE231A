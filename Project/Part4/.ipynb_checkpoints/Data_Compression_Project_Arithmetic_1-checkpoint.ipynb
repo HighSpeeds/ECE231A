{
 "cells": [
  {
   "cell_type": "code",
   "execution_count": 20,
   "metadata": {},
   "outputs": [],
   "source": [
    "import numpy as np\n",
    "import matplotlib.pyplot as plt\n",
    "import csv\n",
    "from collections import Counter"
   ]
  },
  {
   "cell_type": "code",
   "execution_count": 21,
   "metadata": {},
   "outputs": [
    {
     "name": "stdout",
     "output_type": "stream",
     "text": [
      "DACDDBCD\n"
     ]
    }
   ],
   "source": [
    "##########################################################################################\n",
    "# Read Text file\n",
    "##########################################################################################\n",
    "f = open(\"Toy_Example_Arithmetic.txt\", \"r\")\n",
    "text = f.read()\n",
    "print(text)"
   ]
  },
  {
   "cell_type": "code",
   "execution_count": 22,
   "metadata": {},
   "outputs": [
    {
     "name": "stdout",
     "output_type": "stream",
     "text": [
      "[('A', 0.125), ('B', 0.125), ('C', 0.25), ('D', 0.5)]\n"
     ]
    }
   ],
   "source": [
    "##########################################################################################\n",
    "# Compute the empirical distribution\n",
    "##########################################################################################\n",
    "def compute_distribution(text):\n",
    "    \"\"\"\n",
    "    Inputs:\n",
    "    - text: A string containing the text to be encoded.\n",
    "    \n",
    "    Returns:\n",
    "    - symbols: a list of tuples of the form (char,prob), where char is a character appears in the text \n",
    "               and prob is the number of times this character appeared in text divided by the length of text.\n",
    "    \"\"\"\n",
    "    # ================================================================ #\n",
    "    # YOUR CODE HERE:\n",
    "    # ================================================================ #\n",
    "    symbols = []\n",
    "    counter = dict()\n",
    "    for k in text:\n",
    "        if k in counter:\n",
    "            counter[k]+=1/len(text)\n",
    "        else:\n",
    "            counter[k]=1/len(text)\n",
    "    \n",
    "    symbols = []\n",
    "    for j in counter.keys():\n",
    "        symbols.append((j, counter[j]))\n",
    "    symbols = sorted(symbols, key=lambda x:x[1])\n",
    "    # ================================================================ #\n",
    "    # END YOUR CODE HERE\n",
    "    # ================================================================ #  \n",
    "    return symbols\n",
    "\n",
    "symbols = compute_distribution(text)\n",
    "size_symbols = len(symbols)\n",
    "print(symbols)\n"
   ]
  },
  {
   "cell_type": "markdown",
   "metadata": {},
   "source": [
    "## Part 2: Arithmetic Codes"
   ]
  },
  {
   "cell_type": "code",
   "execution_count": 23,
   "metadata": {},
   "outputs": [
    {
     "name": "stdout",
     "output_type": "stream",
     "text": [
      "[('A', 0.125), ('B', 0.25), ('C', 0.5), ('D', 1.0)]\n"
     ]
    }
   ],
   "source": [
    "#######################################################################################\n",
    "# Compute the expected length of the Huffman code\n",
    "#######################################################################################\n",
    "def compute_CDF(symbols):\n",
    "    \"\"\"\n",
    "    Inputs:\n",
    "    - symbols: A list of tuples of the form (char,prob).\n",
    "    Returns:\n",
    "    - CDF_symbols: A list of tuples of the form (char,CDF)\n",
    "    \"\"\"\n",
    "    CDF_symbols = []\n",
    "    # ================================================================ #\n",
    "    # YOUR CODE HERE:\n",
    "    # ================================================================ #\n",
    "    total=0\n",
    "    for i in symbols:\n",
    "        CDF_symbols.append((i[0], i[1]+total))\n",
    "        total += i[1]\n",
    "    # ================================================================ #\n",
    "    # END YOUR CODE HERE\n",
    "    # ================================================================ #\n",
    "    return CDF_symbols\n",
    "\n",
    "CDF_symbols = compute_CDF(symbols)\n",
    "print(CDF_symbols)"
   ]
  },
  {
   "cell_type": "code",
   "execution_count": 24,
   "metadata": {},
   "outputs": [
    {
     "name": "stdout",
     "output_type": "stream",
     "text": [
      "Interval representing the text is:   0.52801513671875 0.528076171875\n"
     ]
    }
   ],
   "source": [
    "###########################################################################\n",
    "# Decimal encoding\n",
    "###########################################################################\n",
    "def decimal_encoding(text,CDF_symbols) :\n",
    "    \"\"\"\n",
    "    Inputs:\n",
    "    - text: A string containing the text to be encoded.\n",
    "    Returns:\n",
    "    - lower: the lower value of the interval of the encoded text.\n",
    "    - upper: the upper value of the interval of the encoded text.\n",
    "    \"\"\"\n",
    "    lower = 0 \n",
    "    upper = 1\n",
    "    # ================================================================ #\n",
    "    # YOUR CODE HERE:\n",
    "    # ================================================================ #\n",
    "    d = dict(CDF_symbols)\n",
    "    sy = [i[0] for i in CDF_symbols]\n",
    "    for c in text:\n",
    "        r = upper - lower\n",
    "        upcdf = d[c]\n",
    "        ind = sy.index(c)\n",
    "        locdf = 0\n",
    "        if (ind != 0):\n",
    "            locdf = d[sy[ind-1]]\n",
    "        lower += r* locdf\n",
    "        upper -= r*(1-upcdf)\n",
    "            \n",
    "        \n",
    "        \n",
    "    # ================================================================ #\n",
    "    # END YOUR CODE HERE\n",
    "    # ================================================================ #\n",
    "    return lower, upper\n",
    "\n",
    "lower,upper = decimal_encoding(text,CDF_symbols)\n",
    "print(\"Interval representing the text is:  \", lower, upper)"
   ]
  },
  {
   "cell_type": "code",
   "execution_count": 25,
   "metadata": {},
   "outputs": [
    {
     "name": "stdout",
     "output_type": "stream",
     "text": [
      "Encoded Text:   100001110010111\n",
      "Expected length of Arithematic code:    1.875\n"
     ]
    }
   ],
   "source": [
    "###########################################################################\n",
    "# Binary encoding\n",
    "###########################################################################\n",
    "def Arithmetic_encoding(lower,upper):\n",
    "    \"\"\"\n",
    "    Inputs:\n",
    "    - lower: the lower value of the interval of the encoded text.\n",
    "    - upper: the upper value of the interval of the encoded text.\n",
    "    Returns:\n",
    "    - txt_code: a string represents the code of the input text.\n",
    "    \"\"\"\n",
    "    txt_code = ''\n",
    "    # ================================================================ #\n",
    "    # YOUR CODE HERE:\n",
    "    # ================================================================ #\n",
    "    l = np.ceil(np.log2(1/(upper -lower)))+1\n",
    "    m = (upper + lower)/2\n",
    "    m *= (2**l)\n",
    "    m = int(m)\n",
    "    return bin(m)[2:]\n",
    "    # ================================================================ #\n",
    "    # END YOUR CODE HERE\n",
    "    # ================================================================ #\n",
    "    return txt_code\n",
    "\n",
    "txt_code = Arithmetic_encoding(lower,upper)\n",
    "print(\"Encoded Text:  \", txt_code)\n",
    "Expected_length_Arithematic = len(txt_code)/len(text)\n",
    "print(\"Expected length of Arithematic code:   \", Expected_length_Arithematic)"
   ]
  },
  {
   "cell_type": "code",
   "execution_count": 26,
   "metadata": {},
   "outputs": [
    {
     "name": "stdout",
     "output_type": "stream",
     "text": [
      "The decoded Value:   0.528045654296875\n"
     ]
    }
   ],
   "source": [
    "###########################################################################\n",
    "# Binary Decoding\n",
    "###########################################################################\n",
    "def decimal_decoding(txt_code):\n",
    "    \"\"\"\n",
    "    Inputs:\n",
    "    - txt_code: a string of zeros and ones represents the code of the input text.\n",
    "    Returns:\n",
    "    - decoded_val: a real number between 0 and 1.\n",
    "    \"\"\"\n",
    "    decoded_val = 0\n",
    "    # ================================================================ #\n",
    "    # YOUR CODE HERE:\n",
    "    # ================================================================ #\n",
    "    decoded_val =  int(txt_code, 2) / (2 ** len(txt_code))\n",
    "    # ================================================================ #\n",
    "    # END YOUR CODE HERE\n",
    "    # ================================================================ #\n",
    "    return decoded_val\n",
    "\n",
    "decoded_val = decimal_decoding(txt_code)\n",
    "print(\"The decoded Value:  \", decoded_val)"
   ]
  },
  {
   "cell_type": "code",
   "execution_count": 27,
   "metadata": {},
   "outputs": [
    {
     "name": "stdout",
     "output_type": "stream",
     "text": [
      "Orginal text:    DACDDBCD\n",
      "Decoded Text:    DACDDBCD\n"
     ]
    }
   ],
   "source": [
    "###########################################################################\n",
    "# Arithmetic Decoding\n",
    "###########################################################################\n",
    "def Arithmetic_decode(decoded_val,CDF_symbols, n):\n",
    "    \"\"\"\n",
    "    Inputs:\n",
    "    - decoded_val: A real number between 0 and 1 represents the mid-point of the interval of the encoded text.\n",
    "    - CDF_symbols: A list containing the symbols and their corresponding CDF\n",
    "    - n: number of symbols to be decoded\n",
    "    Returns:\n",
    "    - decoded_text: a string containing the decoded text.\n",
    "    \"\"\"\n",
    "    decoded_text = ''\n",
    "    # ================================================================ #\n",
    "    # YOUR CODE HERE:\n",
    "    # ================================================================ #\n",
    "    sy = [i[0] for i in CDF_symbols]\n",
    "    for i in range(n):\n",
    "        j = 0\n",
    "        while (CDF_symbols[j][1]<decoded_val):\n",
    "            j+=1\n",
    "        decoded_text += sy[j]\n",
    "        l = 0\n",
    "        if (j != 0):\n",
    "            l = CDF_symbols[j-1][1]\n",
    "        decoded_val = (decoded_val - l)/(CDF_symbols[j][1] - l)\n",
    "        \n",
    "            \n",
    "    # ================================================================ #\n",
    "    # END YOUR CODE HERE\n",
    "    # ================================================================ #\n",
    "    return decoded_text\n",
    "\n",
    "decoded_text = Arithmetic_decode(decoded_val,CDF_symbols, len(text))\n",
    "print(\"Orginal text:   \", text)      \n",
    "print(\"Decoded Text:   \", decoded_text)"
   ]
  },
  {
   "cell_type": "code",
   "execution_count": null,
   "metadata": {},
   "outputs": [],
   "source": []
  }
 ],
 "metadata": {
  "kernelspec": {
   "display_name": "Python 3 (ipykernel)",
   "language": "python",
   "name": "python3"
  },
  "language_info": {
   "codemirror_mode": {
    "name": "ipython",
    "version": 3
   },
   "file_extension": ".py",
   "mimetype": "text/x-python",
   "name": "python",
   "nbconvert_exporter": "python",
   "pygments_lexer": "ipython3",
   "version": "3.9.12"
  }
 },
 "nbformat": 4,
 "nbformat_minor": 4
}
