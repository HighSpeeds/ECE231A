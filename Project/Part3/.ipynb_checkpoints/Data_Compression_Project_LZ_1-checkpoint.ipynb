{
 "cells": [
  {
   "cell_type": "markdown",
   "metadata": {},
   "source": [
    "## ECE 231A : Data Compression Project Module 2\n",
    "\n",
    "Please follow our instructions in the same order and print out the entire results and codes when completed."
   ]
  },
  {
   "cell_type": "code",
   "execution_count": 96,
   "metadata": {},
   "outputs": [],
   "source": [
    "import numpy as np\n",
    "import matplotlib.pyplot as plt\n",
    "import csv\n",
    "from collections import Counter"
   ]
  },
  {
   "cell_type": "code",
   "execution_count": 97,
   "metadata": {},
   "outputs": [
    {
     "name": "stdout",
     "output_type": "stream",
     "text": [
      "AAAABBBBBBAAAAACCCCCEEEEAAAADDDDBBBAAACCCDDDEEEEEBBBCCCC\n"
     ]
    }
   ],
   "source": [
    "##########################################################################################\n",
    "# Read Text file\n",
    "##########################################################################################\n",
    "f = open(\"Toy_Example_LZ.txt\", \"r\")\n",
    "text = f.read()\n",
    "print(text)"
   ]
  },
  {
   "cell_type": "code",
   "execution_count": 98,
   "metadata": {},
   "outputs": [
    {
     "name": "stdout",
     "output_type": "stream",
     "text": [
      "[('D', 0.12499999999999997), ('E', 0.16071428571428567), ('B', 0.21428571428571422), ('C', 0.21428571428571422), ('A', 0.28571428571428564)]\n",
      "2.267713681259536\n"
     ]
    }
   ],
   "source": [
    "##########################################################################################\n",
    "# Compute the distribution\n",
    "##########################################################################################\n",
    "def compute_distribution(text):\n",
    "    \"\"\"\n",
    "    Inputs:\n",
    "    - text: A string containing the text to be encoded.\n",
    "    \n",
    "    Returns:\n",
    "    - symbols: a list of tuples of the form (char,prob), where char is a character appears in the text \n",
    "               and prob is the number of times this character appeared in text divided by the length of text.\n",
    "    - entropy: a number represnting the entropy of the source symbols\n",
    "    \"\"\"\n",
    "    # ================================================================ #\n",
    "    # YOUR CODE HERE:\n",
    "    # ================================================================ #\n",
    "    counter = dict()\n",
    "    for k in text:\n",
    "        if k in counter:\n",
    "            counter[k]+=1/len(text)\n",
    "        else:\n",
    "            counter[k]=1/len(text)\n",
    "    \n",
    "    symbols = []\n",
    "    entropy = 0\n",
    "    for j in counter.keys():\n",
    "        symbols.append((j, counter[j]))\n",
    "        entropy-=np.log2(counter[j])*counter[j]\n",
    "    symbols = sorted(symbols, key=lambda x:x[1])\n",
    "        \n",
    "    # ================================================================ #\n",
    "    # END YOUR CODE HERE\n",
    "    # ================================================================ #\n",
    "    return symbols, entropy\n",
    "\n",
    "symbols, entropy = compute_distribution(text)\n",
    "print(symbols)\n",
    "print(entropy)"
   ]
  },
  {
   "cell_type": "markdown",
   "metadata": {},
   "source": [
    "## Binary LEMPEL-ZIV Coding"
   ]
  },
  {
   "cell_type": "code",
   "execution_count": 99,
   "metadata": {},
   "outputs": [
    {
     "name": "stdout",
     "output_type": "stream",
     "text": [
      "{'D': '000', 'E': '001', 'B': '010', 'C': '011', 'A': '100'} {'D': '000', 'E': '001', 'B': '010', 'C': '011', 'A': '100'}\n"
     ]
    }
   ],
   "source": [
    "##########################################################################################\n",
    "# Initialize the dictionary of both the sender and the receiver\n",
    "##########################################################################################\n",
    "def intialize_dict(symbols):\n",
    "    \"\"\"\n",
    "    Inputs:\n",
    "    - symbols: a list of tuples of the form (char,prob), where char is a character appears in the text \n",
    "               and prob is the number of times this character appeared in text divided by the length of text.\n",
    "    Returns:\n",
    "    - TX_dictionary: dictionary containing the symbols in symbols and its corresponding binary code\n",
    "    - RX_dictionary: dictionary containing the symbols in symbols and its corresponding binary code\n",
    "    \"\"\"\n",
    "    TX_dictionary = dict() \n",
    "    RX_dictionary = dict()\n",
    "    # ================================================================ #\n",
    "    # YOUR CODE HERE:\n",
    "    # ================================================================ #\n",
    "    counter = 0\n",
    "    l = 0\n",
    "    c = len(symbols)\n",
    "    while (c):\n",
    "        c=c//2\n",
    "        l+=1\n",
    "    for i in symbols:\n",
    "        TX_dictionary[i[0]]= format(counter, '0'+str(l)+'b')\n",
    "        RX_dictionary[i[0]]= format(counter, '0'+str(l)+'b')\n",
    "        counter+=1\n",
    "    # ================================================================ #\n",
    "    # END YOUR CODE HERE\n",
    "    # ================================================================ #  \n",
    "    return TX_dictionary,RX_dictionary\n",
    "\n",
    "TX_dictionary, RX_dictionary = intialize_dict(symbols)\n",
    "print(TX_dictionary, RX_dictionary)"
   ]
  },
  {
   "cell_type": "code",
   "execution_count": 100,
   "metadata": {},
   "outputs": [
    {
     "name": "stdout",
     "output_type": "stream",
     "text": [
      "{'D': '00000', 'E': '00001', 'B': '00010', 'C': '00011', 'A': '00100', 'AA': '00101', 'AAB': '00110', 'BB': '00111', 'BBB': '01000', 'AAA': '01001', 'AAC': '01010', 'CC': '01011', 'CCE': '01100', 'EE': '01101', 'EA': '01110', 'AAAD': '01111', 'DD': '10000', 'DB': '10001', 'BBA': '10010', 'AACC': '10011', 'CD': '10100', 'DDE': '10101', 'EEE': '10110', 'EB': '10111', 'BBC': '11000', 'CCC': '11001'}\n",
      "The code of the text is 1001001010100100101110100101010001010011001100111011000100010001000101001001000000000000000000001000111001000101000011000110000010000000010110100001000010001000111000110101100011\n"
     ]
    }
   ],
   "source": [
    "#######################################################################################\n",
    "#Encode the text \n",
    "#######################################################################################\n",
    "def Lempel_ziv_coding(text, TX_dictionary):\n",
    "    \"\"\"\n",
    "    Inputs:\n",
    "    - text: A string containing the text to be encoded.\n",
    "    - TX_dictionary: Initialized decitionary of the sender\n",
    "    Returns:\n",
    "    - TX_dictionary: the updated dictionary of the sender.\n",
    "    - Code: the code of the input text\n",
    "    \"\"\"\n",
    "    code =  ''\n",
    "    # ================================================================ #\n",
    "    # YOUR CODE HERE:\n",
    "    # ================================================================ #\n",
    "    while (len(text)>0):\n",
    "        subseq = text[0]\n",
    "        counter = 1\n",
    "        while subseq in TX_dictionary:\n",
    "            subseq += text[counter]\n",
    "            counter+= 1\n",
    "            if (counter == len(text)):\n",
    "                break\n",
    "        if (not subseq in TX_dictionary):\n",
    "            c = TX_dictionary[subseq[:-1]]\n",
    "            l = len(TX_dictionary)\n",
    "            nextCode = bin(l)[2:]\n",
    "            code += c+TX_dictionary[subseq [-1]]\n",
    "            if (l & (l-1) == 0):\n",
    "                for i in TX_dictionary.keys():\n",
    "                    TX_dictionary[i] = \"0\"+TX_dictionary[i]\n",
    "            TX_dictionary[subseq] = nextCode\n",
    "            text = text[len(subseq):]\n",
    "        else:\n",
    "            code += TX_dictionary[subseq]\n",
    "            return\n",
    "            \n",
    "    \n",
    "    \n",
    "    # ================================================================ #\n",
    "    # END YOUR CODE HERE\n",
    "    # ================================================================ #\n",
    "    return TX_dictionary, code\n",
    "TX_dictionary, code = Lempel_ziv_coding(text, TX_dictionary)\n",
    "print(TX_dictionary)\n",
    "print(\"The code of the text is\",code)"
   ]
  },
  {
   "cell_type": "code",
   "execution_count": 101,
   "metadata": {},
   "outputs": [
    {
     "name": "stdout",
     "output_type": "stream",
     "text": [
      "Expected length of the Lempel-Ziv code:    3.1785714285714284\n"
     ]
    }
   ],
   "source": [
    "#######################################################################################\n",
    "# Compute the expected length of the Lempel-Ziv code\n",
    "#######################################################################################\n",
    "def compute_expected_length(text, code):\n",
    "    \"\"\"\n",
    "    Inputs:\n",
    "    - text: input text.\n",
    "    - code: the code of the input text\n",
    "    Returns:\n",
    "    - Expected_length: a number represents the expected length of Lempel-Ziv code per sample\n",
    "    \"\"\"\n",
    "    Expected_length = 0\n",
    "    # ================================================================ #\n",
    "    # YOUR CODE HERE:\n",
    "    # ================================================================ #\n",
    "    Expected_length =  len(code)/len(text)\n",
    "    # ================================================================ #\n",
    "    # END YOUR CODE HERE\n",
    "    # ================================================================ #\n",
    "    return Expected_length\n",
    "\n",
    "Expected_length = compute_expected_length(text, code)\n",
    "print(\"Expected length of the Lempel-Ziv code:   \", Expected_length)"
   ]
  },
  {
   "cell_type": "code",
   "execution_count": 102,
   "metadata": {},
   "outputs": [
    {
     "name": "stdout",
     "output_type": "stream",
     "text": [
      "Orginal text:    AAAABBBBBBAAAAACCCCCEEEEAAAADDDDBBBAAACCCDDDEEEEEBBBCCCC\n",
      "Decoded Text:    AAAABBBBBBAAAAACCCCCEEEEAAAADDDDBBBAAACCCDDDEEEEEBBBCCCC\n",
      "The receiver Dictionary:    {'D': '00000', 'E': '00001', 'B': '00010', 'C': '00011', 'A': '00100', 'AA': '00101', 'AAB': '00110', 'BB': '00111', 'BBB': '01000', 'AAA': '01001', 'AAC': '01010', 'CC': '01011', 'CCE': '01100', 'EE': '01101', 'EA': '01110', 'AAAD': '01111', 'DD': '10000', 'DB': '10001', 'BBA': '10010', 'AACC': '10011', 'CD': '10100', 'DDE': '10101', 'EEE': '10110', 'EB': '10111', 'BBC': '11000', 'CCC': '11001'}\n"
     ]
    }
   ],
   "source": [
    "#######################################################################################\n",
    "# Decode a text\n",
    "#######################################################################################\n",
    "def decode_text(code, RX_dictionary):\n",
    "    \"\"\"\n",
    "    Inputs:\n",
    "    - code: A code of a text encoded by Huffman code as a string.\n",
    "    - RX_dictionary: Initialized decitionary of the receiver\n",
    "    Returns:\n",
    "    - decoded_text: a string represents the decoded text.\n",
    "    - RX_dictionary: the updated dictionary of the receiver.\n",
    "    \"\"\"\n",
    "    decoded_text = ''\n",
    "    # ================================================================ #\n",
    "    # YOUR CODE HERE:\n",
    "    # ================================================================ #\n",
    "    while (len(code) > 0):\n",
    "        l = len(bin(len(RX_dictionary)-1))-2\n",
    "        first = code[:l]\n",
    "        inv = dict((v, k) for k, v in RX_dictionary.items())\n",
    "        if (len(code) == l):\n",
    "            decoded_text += inv[first]\n",
    "            break\n",
    "        else:\n",
    "            second = code[l:2*l]\n",
    "            t = inv[first]+inv[second]\n",
    "            decoded_text+=t\n",
    "            l2 = len(RX_dictionary)\n",
    "            if (l2 & (l2-1) == 0):\n",
    "                for i in RX_dictionary.keys():\n",
    "                    RX_dictionary[i] = \"0\"+RX_dictionary[i]\n",
    "            RX_dictionary[t] = bin(l2)[2:]\n",
    "        code = code[l*2:]\n",
    "            \n",
    "    # ================================================================ #\n",
    "    # END YOUR CODE HERE\n",
    "    # ================================================================ #\n",
    "    return decoded_text, RX_dictionary\n",
    "\n",
    "decoded_text,RX_dictionary = decode_text(code, RX_dictionary)\n",
    "print(\"Orginal text:   \", text)      \n",
    "print(\"Decoded Text:   \", decoded_text)\n",
    "print(\"The receiver Dictionary:   \", RX_dictionary)"
   ]
  },
  {
   "cell_type": "code",
   "execution_count": null,
   "metadata": {},
   "outputs": [],
   "source": []
  }
 ],
 "metadata": {
  "kernelspec": {
   "display_name": "Python 3 (ipykernel)",
   "language": "python",
   "name": "python3"
  },
  "language_info": {
   "codemirror_mode": {
    "name": "ipython",
    "version": 3
   },
   "file_extension": ".py",
   "mimetype": "text/x-python",
   "name": "python",
   "nbconvert_exporter": "python",
   "pygments_lexer": "ipython3",
   "version": "3.9.12"
  }
 },
 "nbformat": 4,
 "nbformat_minor": 2
}
