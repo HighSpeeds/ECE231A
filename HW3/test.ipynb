{
 "cells": [
  {
   "cell_type": "code",
   "execution_count": 2,
   "metadata": {},
   "outputs": [],
   "source": [
    "import numpy as np"
   ]
  },
  {
   "cell_type": "code",
   "execution_count": 18,
   "metadata": {},
   "outputs": [
    {
     "name": "stdout",
     "output_type": "stream",
     "text": [
      "codeword A is 001\n",
      "codeword B is 0110\n",
      "codeword C is 1001\n",
      "codeword D is 1100\n",
      "codeword E is 11110\n"
     ]
    }
   ],
   "source": [
    "strings=[\"A\",\"B\",\"C\",\"D\",\"E\"]\n",
    "p=[0.3,0.2,0.2,0.2,0.1]\n",
    "\n",
    "def decimal_converter(num):\n",
    "    while num > 1:\n",
    "        num /= 10\n",
    "    return num\n",
    "\n",
    "F_bar=0\n",
    "\n",
    "SFE_encodings=[]\n",
    "for i in range(len(strings)):\n",
    "    F_bar+=1/2*p[i]\n",
    "    # print(F_bar)\n",
    "    Z=\"\"\n",
    "    F_bar_str=int(str(F_bar).split(\".\")[-1])\n",
    "\n",
    "    l=np.ceil(np.log2(1/p[i]))+1\n",
    "    for j in range(int(l)):\n",
    "        val,F_bar_str=str((decimal_converter(F_bar_str)) * 2).split(\".\")\n",
    "        Z+=val\n",
    "        F_bar_str=int(F_bar_str)\n",
    "    print(\"codeword {} is {}\".format(strings[i],Z))\n",
    "    SFE_encodings.append(Z)\n",
    "    F_bar+=1/2*p[i]\n"
   ]
  },
  {
   "cell_type": "code",
   "execution_count": 19,
   "metadata": {},
   "outputs": [
    {
     "name": "stdout",
     "output_type": "stream",
     "text": [
      "Average length of SFE encoding is 3.8\n"
     ]
    }
   ],
   "source": [
    "avg_len=0\n",
    "for i in range(len(strings)):\n",
    "    avg_len+=len(SFE_encodings[i])*p[i]\n",
    "print(\"Average length of SFE encoding is {}\".format(avg_len))"
   ]
  },
  {
   "cell_type": "code",
   "execution_count": 15,
   "metadata": {},
   "outputs": [
    {
     "name": "stdout",
     "output_type": "stream",
     "text": [
      "672\n",
      "344\n",
      "688\n",
      "376\n",
      "752\n",
      "504\n",
      "8\n",
      "6\n"
     ]
    },
    {
     "data": {
      "text/plain": [
       "'01010111'"
      ]
     },
     "execution_count": 15,
     "metadata": {},
     "output_type": "execute_result"
    }
   ],
   "source": [
    "F_bar=0.336\n",
    "\n",
    "Z=\"\"\n",
    "F_bar_str=int(str(F_bar).split(\".\")[-1])\n",
    "p=0.3*0.2*0.2\n",
    "l=np.ceil(np.log2(1/p))+1\n",
    "for j in range(int(l)):\n",
    "    val,F_bar_str=str((decimal_converter(F_bar_str)) * 2).split(\".\")\n",
    "    Z+=val\n",
    "    F_bar_str=int(F_bar_str)\n",
    "    print(F_bar_str)\n",
    "Z"
   ]
  },
  {
   "cell_type": "code",
   "execution_count": 16,
   "metadata": {},
   "outputs": [
    {
     "data": {
      "text/plain": [
       "8.0"
      ]
     },
     "execution_count": 16,
     "metadata": {},
     "output_type": "execute_result"
    }
   ],
   "source": [
    "l"
   ]
  },
  {
   "cell_type": "code",
   "execution_count": 12,
   "metadata": {},
   "outputs": [],
   "source": [
    "def dec2bin(num,l=9):\n",
    "    \"\"\"\"\n",
    "    Function to convert a floating point decimal number to binary number\n",
    "    \"\"\"\n",
    "    global whole_list\n",
    "    global dec_list\n",
    "    whole, dec = str(num).split('.')\n",
    "    whole = int(whole)\n",
    "    dec = int(dec)\n",
    "    counter = 1\n",
    "    whole_list = []\n",
    "    dec_list = []\n",
    "    \n",
    "    while (whole / 2 >= 1):\n",
    "            i = int(whole % 2)\n",
    "            whole_list.append(i)\n",
    "            whole /= 2\n",
    "            \n",
    "    decproduct = dec      \n",
    "    while (counter <= l+1):\n",
    "        decproduct = decproduct * (10**-(len(str(decproduct))))\n",
    "        decproduct *= 2\n",
    "        decwhole, decdec = str(decproduct).split('.')\n",
    "        decwhole = int(decwhole)\n",
    "        decdec = int(decdec)\n",
    "        dec_list.append(decwhole)\n",
    "        decproduct = decdec\n",
    "        counter += 1\n",
    "    print(dec_list)\n",
    "    "
   ]
  },
  {
   "cell_type": "code",
   "execution_count": 13,
   "metadata": {},
   "outputs": [
    {
     "data": {
      "text/plain": [
       "'.10101101'"
      ]
     },
     "execution_count": 13,
     "metadata": {},
     "output_type": "execute_result"
    }
   ],
   "source": [
    "F_bar=0.336\n",
    "\n",
    "Z=\"\"\n",
    "F_bar_str=int(str(F_bar).split(\".\")[-1])\n",
    "p=0.3*0.2*0.2\n",
    "l=int(np.ceil(np.log2(1/p))+1)\n",
    "float_bin(0.656252,l)"
   ]
  },
  {
   "cell_type": "code",
   "execution_count": 14,
   "metadata": {},
   "outputs": [
    {
     "data": {
      "text/plain": [
       "'.1010110100'"
      ]
     },
     "execution_count": 14,
     "metadata": {},
     "output_type": "execute_result"
    }
   ],
   "source": [
    "float_bin(0.656252,10)"
   ]
  },
  {
   "cell_type": "code",
   "execution_count": 15,
   "metadata": {},
   "outputs": [
    {
     "name": "stdout",
     "output_type": "stream",
     "text": [
      "[1, 0, 1, 0, 1, 1, 0, 1, 0]\n"
     ]
    }
   ],
   "source": [
    "dec2bin(0.656252,l)"
   ]
  },
  {
   "cell_type": "code",
   "execution_count": null,
   "metadata": {},
   "outputs": [],
   "source": []
  }
 ],
 "metadata": {
  "kernelspec": {
   "display_name": "Python 3.10.8 64-bit",
   "language": "python",
   "name": "python3"
  },
  "language_info": {
   "codemirror_mode": {
    "name": "ipython",
    "version": 3
   },
   "file_extension": ".py",
   "mimetype": "text/x-python",
   "name": "python",
   "nbconvert_exporter": "python",
   "pygments_lexer": "ipython3",
   "version": "3.10.8"
  },
  "orig_nbformat": 4,
  "vscode": {
   "interpreter": {
    "hash": "e7370f93d1d0cde622a1f8e1c04877d8463912d04d973331ad4851f04de6915a"
   }
  }
 },
 "nbformat": 4,
 "nbformat_minor": 2
}
