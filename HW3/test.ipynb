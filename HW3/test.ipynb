{
 "cells": [
  {
   "cell_type": "code",
   "execution_count": 1,
   "metadata": {},
   "outputs": [],
   "source": [
    "import numpy as np"
   ]
  },
  {
   "cell_type": "code",
   "execution_count": 5,
   "metadata": {},
   "outputs": [
    {
     "name": "stdout",
     "output_type": "stream",
     "text": [
      "codeword A is 001\n",
      "codeword B is 0011\n",
      "codeword C is 0101\n",
      "codeword D is 1101\n",
      "codeword E is 10011\n"
     ]
    }
   ],
   "source": [
    "strings=[\"A\",\"B\",\"C\",\"D\",\"E\"]\n",
    "p=[0.3,0.2,0.2,0.2,0.1]\n",
    "\n",
    "def decimal_converter(num):\n",
    "    while num > 1:\n",
    "        num /= 10\n",
    "    return num\n",
    "\n",
    "F_bar=0\n",
    "\n",
    "SFE_encodings=[]\n",
    "for i in range(len(strings)):\n",
    "    F_bar+=1/2*p[i]\n",
    "\n",
    "    Z=\"\"\n",
    "    F_bar_str=int(str(F_bar).split(\".\")[-1])\n",
    "\n",
    "    l=np.ceil(np.log2(1/p[i]))+1\n",
    "    for j in range(int(l)):\n",
    "        val,F_bar=str((decimal_converter(F_bar)) * 2).split(\".\")\n",
    "        Z+=val\n",
    "        F_bar=int(F_bar)\n",
    "    print(\"codeword {} is {}\".format(strings[i],Z))\n",
    "    SFE_encodings.append(Z)\n",
    "\n"
   ]
  },
  {
   "cell_type": "code",
   "execution_count": 4,
   "metadata": {},
   "outputs": [
    {
     "name": "stdout",
     "output_type": "stream",
     "text": [
      "Average length of SFE encoding is 3.8\n"
     ]
    }
   ],
   "source": [
    "avg_len=0\n",
    "for i in range(len(strings)):\n",
    "    avg_len+=len(SFE_encodings[i])*p[i]\n",
    "print(\"Average length of SFE encoding is {}\".format(avg_len))"
   ]
  },
  {
   "cell_type": "code",
   "execution_count": null,
   "metadata": {},
   "outputs": [],
   "source": []
  }
 ],
 "metadata": {
  "kernelspec": {
   "display_name": "Python 3.9.12 ('base')",
   "language": "python",
   "name": "python3"
  },
  "language_info": {
   "codemirror_mode": {
    "name": "ipython",
    "version": 3
   },
   "file_extension": ".py",
   "mimetype": "text/x-python",
   "name": "python",
   "nbconvert_exporter": "python",
   "pygments_lexer": "ipython3",
   "version": "3.9.12"
  },
  "orig_nbformat": 4,
  "vscode": {
   "interpreter": {
    "hash": "19e89d5353d4146e62317e49268a945e919fb3369eb7ce1f38db2346a403f5a4"
   }
  }
 },
 "nbformat": 4,
 "nbformat_minor": 2
}
